{
 "cells": [
  {
   "cell_type": "markdown",
   "metadata": {},
   "source": [
    "### Payout when taking random action each round"
   ]
  },
  {
   "cell_type": "code",
   "execution_count": 127,
   "metadata": {
    "collapsed": false
   },
   "outputs": [
    {
     "name": "stderr",
     "output_type": "stream",
     "text": [
      "[2017-08-04 00:37:10,515] Making new env: Blackjack-v0\n"
     ]
    },
    {
     "name": "stdout",
     "output_type": "stream",
     "text": [
      "Average payout after 1000 rounds is -396.557\n"
     ]
    }
   ],
   "source": [
    "import gym\n",
    "env = gym.make('Blackjack-v0')\n",
    "env.reset()\n",
    "\n",
    "num_rounds = 1000\n",
    "num_samples = 1000\n",
    "total_payout = 0\n",
    "\n",
    "for _ in range(num_samples):\n",
    "    round = 1\n",
    "    while round <= num_rounds:\n",
    "        action = env.action_space.sample()   \n",
    "        # print (env._get_obs())\n",
    "        # print (action)\n",
    "        obs, payout, is_done, _ = env.step(action)\n",
    "        # print (obs, payout, is_done)\n",
    "        total_payout += payout\n",
    "        if is_done:\n",
    "            env.reset()\n",
    "            round += 1\n",
    "    \n",
    "print (\"Average payout after {} rounds is {}\".format(num_rounds, total_payout/num_samples))"
   ]
  },
  {
   "cell_type": "markdown",
   "metadata": {},
   "source": [
    "### Payout when using normal play strategy\n",
    "Strategy from figure 11 [here](https://pdfs.semanticscholar.org/e1dd/06616e2d18179da7a3643cb3faab95222c8b.pdf)"
   ]
  },
  {
   "cell_type": "code",
   "execution_count": 126,
   "metadata": {
    "collapsed": false
   },
   "outputs": [
    {
     "name": "stdout",
     "output_type": "stream",
     "text": [
      "Average payout after 1000 rounds is -100.769\n"
     ]
    }
   ],
   "source": [
    "def normal_strategy(player_sum, dealer_up_card):\n",
    "    \"\"\"\n",
    "    2D array storing actions\n",
    "    Each row corresponds to player sum- from 2 to 21\n",
    "    Each column corresponds to dealer_up_card- from 1 to 10\n",
    "    \"\"\"\n",
    "    actions = [[1]*10]*8 # 2 to 9\n",
    "    actions.append([1]*4 + [0]*2 + [1]*4) #10\n",
    "    actions.append([1] + [0]*6 + [1]*3) #11\n",
    "    actions.append([0] + [1]*9) #12\n",
    "    actions.append([0]*2 + [1]*8) #13\n",
    "    actions.append([0]*1 + [1]*9) #14\n",
    "    actions.append([0]*2 + [1]*8) #15\n",
    "    actions.append([0]*5 + [1]*5) #16\n",
    "    actions.append([0]*4 + [1]*6) #17\n",
    "    actions.extend([[0]*10]*4) # 18 to 21\n",
    "    \n",
    "    # dealer_up_card-2 takes care of input 1 which correcly looks up last column\n",
    "    return actions[player_sum-2][dealer_up_card-2]\n",
    "\n",
    "assert (normal_strategy(15, 2)) == 0\n",
    "assert (normal_strategy(15, 1)) == 1\n",
    "\n",
    "\n",
    "num_rounds = 1000\n",
    "num_samples = 1000\n",
    "total_payout = 0\n",
    "\n",
    "for _ in range(num_samples):\n",
    "    round = 1\n",
    "    while round <= num_rounds:\n",
    "        player_sum, dealer_up_card, is_done = (env._get_obs())\n",
    "        action = normal_strategy(player_sum, dealer_up_card)\n",
    "        # print (env._get_obs())\n",
    "        # print (action)\n",
    "        obs, payout, is_done, _ = env.step(action)\n",
    "        # print (obs, payout, is_done)\n",
    "        total_payout += payout\n",
    "        if is_done:\n",
    "            env.reset()\n",
    "            round += 1\n",
    "    \n",
    "print (\"Average payout after {} rounds is {}\".format(num_rounds, total_payout/num_samples))\n"
   ]
  }
 ],
 "metadata": {
  "anaconda-cloud": {},
  "kernelspec": {
   "display_name": "Python [conda env:ana42py35]",
   "language": "python",
   "name": "conda-env-ana42py35-py"
  },
  "language_info": {
   "codemirror_mode": {
    "name": "ipython",
    "version": 3
   },
   "file_extension": ".py",
   "mimetype": "text/x-python",
   "name": "python",
   "nbconvert_exporter": "python",
   "pygments_lexer": "ipython3",
   "version": "3.5.3"
  }
 },
 "nbformat": 4,
 "nbformat_minor": 1
}
